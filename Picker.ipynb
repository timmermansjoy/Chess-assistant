{
 "cells": [
  {
   "cell_type": "code",
   "execution_count": 27,
   "metadata": {},
   "outputs": [],
   "source": [
    "import numpy as np\n",
    "import cv2 as cv\n",
    "import glob\n",
    "from matplotlib import pyplot as plt"
   ]
  },
  {
   "cell_type": "code",
   "execution_count": 35,
   "metadata": {},
   "outputs": [],
   "source": [
    "chessboardSize = (7,7)\n",
    "frameSize = (1069, 599)"
   ]
  },
  {
   "cell_type": "code",
   "execution_count": 36,
   "metadata": {},
   "outputs": [],
   "source": [
    "# Termination criteria\n",
    "criteria = (cv.TERM_CRITERIA_EPS + cv.TERM_CRITERIA_MAX_ITER, 30, 0.001)"
   ]
  },
  {
   "cell_type": "code",
   "execution_count": 37,
   "metadata": {},
   "outputs": [],
   "source": [
    "# Prepare object points, like (0,0,0), (1,0,0), (2,0,0) ... (6,5,0)\n",
    "objp = np.zeros((chessboardSize[0] * chessboardSize[1], 3), np.float32)\n",
    "objp[:,:2] = np.mgrid[0:chessboardSize[0], 0:chessboardSize[1]].T.reshape(-1,2)"
   ]
  },
  {
   "cell_type": "code",
   "execution_count": 38,
   "metadata": {},
   "outputs": [],
   "source": [
    "# Arrays to store object points and image points from all the images\n",
    "objPoints = [] # 3D point in real world space\n",
    "imgPoints = [] # 2D points in image plane"
   ]
  },
  {
   "cell_type": "code",
   "execution_count": null,
   "metadata": {},
   "outputs": [],
   "source": []
  },
  {
   "cell_type": "code",
   "execution_count": 39,
   "metadata": {},
   "outputs": [
    {
     "name": "stdout",
     "output_type": "stream",
     "text": [
      "ret = False\n",
      "ret = False\n",
      "ret = False\n"
     ]
    }
   ],
   "source": [
    "images = glob.glob('Images/*.png')\n",
    "\n",
    "for image in images:\n",
    "    img = cv.imread(image)\n",
    "    gray = cv.cvtColor(img, cv.COLOR_BGR2GRAY)\n",
    "    \n",
    "    # Find the chess board corners\n",
    "    ret, corners = cv.findChessboardCorners(gray, chessboardSize, None)\n",
    "    count = 0\n",
    "    # If found, add object points, image points (after refining them)\n",
    "    if ret == True:\n",
    "        \n",
    "        objPoints.append(objp)\n",
    "        corners2 = cv.cornerSubPix(gray, corners, (11, 11), (-1, -1), criteria)\n",
    "        imgPoints.append(corners)\n",
    "        for i in range(corners2.shape[0]):\n",
    "            x = corners[i,0,0]\n",
    "            y = corners[i,0,1]\n",
    "            cv.circle(img, (round(x),round(y)), 10, (0,0,255), -1)\n",
    "        \n",
    "        \n",
    "        # Draw and display the corners\n",
    "        # cv.drawChessboardCorners(img, chessboardSize, corners2, ret)\n",
    "        # cv.imwrite('img{}.png'.format(count), img)\n",
    "        # count +=1\n",
    "        cv.imshow(\"img\", img)\n",
    "        cv.waitKey(1000)\n",
    "    \n",
    "cv.destroyAllWindows()"
   ]
  },
  {
   "cell_type": "code",
   "execution_count": 7,
   "metadata": {},
   "outputs": [
    {
     "name": "stdout",
     "output_type": "stream",
     "text": [
      "Camera calibrated:  0.2954562120574484\n",
      "\n",
      "Camera Matrix:\n",
      " [[4.91866765e+03 0.00000000e+00 5.25359316e+02]\n",
      " [0.00000000e+00 4.82022029e+03 3.73525643e+02]\n",
      " [0.00000000e+00 0.00000000e+00 1.00000000e+00]]\n",
      "\n",
      "Distortion Parameters:\n",
      " [[-1.69265303e+00 -1.23519227e+02 -2.69481972e-02  7.34307731e-02\n",
      "  -9.65038179e+03]]\n",
      "\n",
      "Rotation Vectors:\n",
      " [array([[-0.02611522],\n",
      "       [-0.17208999],\n",
      "       [ 0.00457806]]), array([[-0.02980798],\n",
      "       [-0.17536695],\n",
      "       [ 0.00443965]])]\n",
      "\n",
      "Translation Vectors:\n",
      " [array([[-3.95424172],\n",
      "       [-4.16950195],\n",
      "       [82.87330785]]), array([[-4.16959599],\n",
      "       [-4.35888386],\n",
      "       [85.42236585]])]\n"
     ]
    }
   ],
   "source": [
    "ret, cameraMatrix, dist, rvecs, tvecs = cv.calibrateCamera(objPoints, imgPoints, frameSize, None, None)\n",
    "\n",
    "print(\"Camera calibrated: \", ret)\n",
    "print(\"\\nCamera Matrix:\\n\", cameraMatrix)\n",
    "print(\"\\nDistortion Parameters:\\n\", dist)\n",
    "print(\"\\nRotation Vectors:\\n\", rvecs)\n",
    "print(\"\\nTranslation Vectors:\\n\", tvecs)"
   ]
  },
  {
   "cell_type": "code",
   "execution_count": 8,
   "metadata": {},
   "outputs": [
    {
     "data": {
      "text/plain": [
       "True"
      ]
     },
     "execution_count": 8,
     "metadata": {},
     "output_type": "execute_result"
    }
   ],
   "source": [
    "img = cv.imread(images[2])\n",
    "h, w = img.shape[:2]\n",
    "newCameraMatrix, roi = cv.getOptimalNewCameraMatrix(cameraMatrix, dist, (w,h), 1, (w,h))\n",
    "\n",
    "# Undistort\n",
    "dst = cv.undistort(img, cameraMatrix, dist, None, newCameraMatrix)\n",
    "\n",
    "# Crop the image\n",
    "x, y, w, h = roi\n",
    "dst = dst[y:y+h, x:x+w]\n",
    "cv.imwrite('caliResult1.png', dst)\n"
   ]
  },
  {
   "cell_type": "code",
   "execution_count": 29,
   "metadata": {},
   "outputs": [
    {
     "data": {
      "text/plain": [
       "True"
      ]
     },
     "execution_count": 29,
     "metadata": {},
     "output_type": "execute_result"
    }
   ],
   "source": [
    "# Undistort with remapping\n",
    "mapx, mapy = cv.initUndistortRectifyMap(cameraMatrix, dist, None, newCameraMatrix, (w+200,h+200), 5)\n",
    "dst = cv.remap(img, mapx, mapy, cv.INTER_LINEAR)\n",
    "\n",
    "# Crop the image\n",
    "x, y, w, h, = roi\n",
    "dst = dst[y:y+h, x:x+w]\n",
    "cv.imwrite('caliResult2.png', dst)"
   ]
  },
  {
   "cell_type": "code",
   "execution_count": 11,
   "metadata": {},
   "outputs": [
    {
     "name": "stdout",
     "output_type": "stream",
     "text": [
      "total error: 0.042207644878993714\n"
     ]
    }
   ],
   "source": [
    "# Reprojection Error\n",
    "mean_error = 0\n",
    "for i in range(len(objPoints)):\n",
    "    imgPoints2, _ = cv.projectPoints(objPoints[i], rvecs[i], tvecs[i], cameraMatrix, dist)\n",
    "    error = cv.norm(imgPoints[i], imgPoints2, cv.NORM_L2)/len(imgPoints2)\n",
    "    mean_error += error\n",
    "    \n",
    "print(\"total error: {}\".format(mean_error/len(objPoints)))\n"
   ]
  },
  {
   "cell_type": "code",
   "execution_count": 43,
   "metadata": {},
   "outputs": [
    {
     "ename": "TypeError",
     "evalue": "Image data of dtype object cannot be converted to float",
     "output_type": "error",
     "traceback": [
      "\u001b[0;31m---------------------------------------------------------------------------\u001b[0m",
      "\u001b[0;31mTypeError\u001b[0m                                 Traceback (most recent call last)",
      "\u001b[0;32m<ipython-input-43-f290863b7b93>\u001b[0m in \u001b[0;36m<module>\u001b[0;34m\u001b[0m\n\u001b[1;32m      5\u001b[0m \u001b[0mimage5\u001b[0m \u001b[0;34m=\u001b[0m \u001b[0mcv\u001b[0m\u001b[0;34m.\u001b[0m\u001b[0mimread\u001b[0m\u001b[0;34m(\u001b[0m\u001b[0mimages\u001b[0m\u001b[0;34m[\u001b[0m\u001b[0;36m4\u001b[0m\u001b[0;34m]\u001b[0m\u001b[0;34m)\u001b[0m\u001b[0;34m\u001b[0m\u001b[0;34m\u001b[0m\u001b[0m\n\u001b[1;32m      6\u001b[0m \u001b[0;34m\u001b[0m\u001b[0m\n\u001b[0;32m----> 7\u001b[0;31m \u001b[0mplt\u001b[0m\u001b[0;34m.\u001b[0m\u001b[0mimshow\u001b[0m\u001b[0;34m(\u001b[0m\u001b[0mimage1\u001b[0m\u001b[0;34m)\u001b[0m\u001b[0;34m\u001b[0m\u001b[0;34m\u001b[0m\u001b[0m\n\u001b[0m\u001b[1;32m      8\u001b[0m \u001b[0mplt\u001b[0m\u001b[0;34m.\u001b[0m\u001b[0mshow\u001b[0m\u001b[0;34m(\u001b[0m\u001b[0;34m)\u001b[0m\u001b[0;34m\u001b[0m\u001b[0;34m\u001b[0m\u001b[0m\n\u001b[1;32m      9\u001b[0m \u001b[0mplt\u001b[0m\u001b[0;34m.\u001b[0m\u001b[0mimshow\u001b[0m\u001b[0;34m(\u001b[0m\u001b[0mimage2\u001b[0m\u001b[0;34m)\u001b[0m\u001b[0;34m\u001b[0m\u001b[0;34m\u001b[0m\u001b[0m\n",
      "\u001b[0;32m~/anaconda3/lib/python3.8/site-packages/matplotlib/pyplot.py\u001b[0m in \u001b[0;36mimshow\u001b[0;34m(X, cmap, norm, aspect, interpolation, alpha, vmin, vmax, origin, extent, filternorm, filterrad, resample, url, data, **kwargs)\u001b[0m\n\u001b[1;32m   2722\u001b[0m         \u001b[0mfilternorm\u001b[0m\u001b[0;34m=\u001b[0m\u001b[0;32mTrue\u001b[0m\u001b[0;34m,\u001b[0m \u001b[0mfilterrad\u001b[0m\u001b[0;34m=\u001b[0m\u001b[0;36m4.0\u001b[0m\u001b[0;34m,\u001b[0m \u001b[0mresample\u001b[0m\u001b[0;34m=\u001b[0m\u001b[0;32mNone\u001b[0m\u001b[0;34m,\u001b[0m \u001b[0murl\u001b[0m\u001b[0;34m=\u001b[0m\u001b[0;32mNone\u001b[0m\u001b[0;34m,\u001b[0m\u001b[0;34m\u001b[0m\u001b[0;34m\u001b[0m\u001b[0m\n\u001b[1;32m   2723\u001b[0m         data=None, **kwargs):\n\u001b[0;32m-> 2724\u001b[0;31m     __ret = gca().imshow(\n\u001b[0m\u001b[1;32m   2725\u001b[0m         \u001b[0mX\u001b[0m\u001b[0;34m,\u001b[0m \u001b[0mcmap\u001b[0m\u001b[0;34m=\u001b[0m\u001b[0mcmap\u001b[0m\u001b[0;34m,\u001b[0m \u001b[0mnorm\u001b[0m\u001b[0;34m=\u001b[0m\u001b[0mnorm\u001b[0m\u001b[0;34m,\u001b[0m \u001b[0maspect\u001b[0m\u001b[0;34m=\u001b[0m\u001b[0maspect\u001b[0m\u001b[0;34m,\u001b[0m\u001b[0;34m\u001b[0m\u001b[0;34m\u001b[0m\u001b[0m\n\u001b[1;32m   2726\u001b[0m         \u001b[0minterpolation\u001b[0m\u001b[0;34m=\u001b[0m\u001b[0minterpolation\u001b[0m\u001b[0;34m,\u001b[0m \u001b[0malpha\u001b[0m\u001b[0;34m=\u001b[0m\u001b[0malpha\u001b[0m\u001b[0;34m,\u001b[0m \u001b[0mvmin\u001b[0m\u001b[0;34m=\u001b[0m\u001b[0mvmin\u001b[0m\u001b[0;34m,\u001b[0m\u001b[0;34m\u001b[0m\u001b[0;34m\u001b[0m\u001b[0m\n",
      "\u001b[0;32m~/anaconda3/lib/python3.8/site-packages/matplotlib/__init__.py\u001b[0m in \u001b[0;36minner\u001b[0;34m(ax, data, *args, **kwargs)\u001b[0m\n\u001b[1;32m   1436\u001b[0m     \u001b[0;32mdef\u001b[0m \u001b[0minner\u001b[0m\u001b[0;34m(\u001b[0m\u001b[0max\u001b[0m\u001b[0;34m,\u001b[0m \u001b[0;34m*\u001b[0m\u001b[0margs\u001b[0m\u001b[0;34m,\u001b[0m \u001b[0mdata\u001b[0m\u001b[0;34m=\u001b[0m\u001b[0;32mNone\u001b[0m\u001b[0;34m,\u001b[0m \u001b[0;34m**\u001b[0m\u001b[0mkwargs\u001b[0m\u001b[0;34m)\u001b[0m\u001b[0;34m:\u001b[0m\u001b[0;34m\u001b[0m\u001b[0;34m\u001b[0m\u001b[0m\n\u001b[1;32m   1437\u001b[0m         \u001b[0;32mif\u001b[0m \u001b[0mdata\u001b[0m \u001b[0;32mis\u001b[0m \u001b[0;32mNone\u001b[0m\u001b[0;34m:\u001b[0m\u001b[0;34m\u001b[0m\u001b[0;34m\u001b[0m\u001b[0m\n\u001b[0;32m-> 1438\u001b[0;31m             \u001b[0;32mreturn\u001b[0m \u001b[0mfunc\u001b[0m\u001b[0;34m(\u001b[0m\u001b[0max\u001b[0m\u001b[0;34m,\u001b[0m \u001b[0;34m*\u001b[0m\u001b[0mmap\u001b[0m\u001b[0;34m(\u001b[0m\u001b[0msanitize_sequence\u001b[0m\u001b[0;34m,\u001b[0m \u001b[0margs\u001b[0m\u001b[0;34m)\u001b[0m\u001b[0;34m,\u001b[0m \u001b[0;34m**\u001b[0m\u001b[0mkwargs\u001b[0m\u001b[0;34m)\u001b[0m\u001b[0;34m\u001b[0m\u001b[0;34m\u001b[0m\u001b[0m\n\u001b[0m\u001b[1;32m   1439\u001b[0m \u001b[0;34m\u001b[0m\u001b[0m\n\u001b[1;32m   1440\u001b[0m         \u001b[0mbound\u001b[0m \u001b[0;34m=\u001b[0m \u001b[0mnew_sig\u001b[0m\u001b[0;34m.\u001b[0m\u001b[0mbind\u001b[0m\u001b[0;34m(\u001b[0m\u001b[0max\u001b[0m\u001b[0;34m,\u001b[0m \u001b[0;34m*\u001b[0m\u001b[0margs\u001b[0m\u001b[0;34m,\u001b[0m \u001b[0;34m**\u001b[0m\u001b[0mkwargs\u001b[0m\u001b[0;34m)\u001b[0m\u001b[0;34m\u001b[0m\u001b[0;34m\u001b[0m\u001b[0m\n",
      "\u001b[0;32m~/anaconda3/lib/python3.8/site-packages/matplotlib/axes/_axes.py\u001b[0m in \u001b[0;36mimshow\u001b[0;34m(self, X, cmap, norm, aspect, interpolation, alpha, vmin, vmax, origin, extent, filternorm, filterrad, resample, url, **kwargs)\u001b[0m\n\u001b[1;32m   5521\u001b[0m                               resample=resample, **kwargs)\n\u001b[1;32m   5522\u001b[0m \u001b[0;34m\u001b[0m\u001b[0m\n\u001b[0;32m-> 5523\u001b[0;31m         \u001b[0mim\u001b[0m\u001b[0;34m.\u001b[0m\u001b[0mset_data\u001b[0m\u001b[0;34m(\u001b[0m\u001b[0mX\u001b[0m\u001b[0;34m)\u001b[0m\u001b[0;34m\u001b[0m\u001b[0;34m\u001b[0m\u001b[0m\n\u001b[0m\u001b[1;32m   5524\u001b[0m         \u001b[0mim\u001b[0m\u001b[0;34m.\u001b[0m\u001b[0mset_alpha\u001b[0m\u001b[0;34m(\u001b[0m\u001b[0malpha\u001b[0m\u001b[0;34m)\u001b[0m\u001b[0;34m\u001b[0m\u001b[0;34m\u001b[0m\u001b[0m\n\u001b[1;32m   5525\u001b[0m         \u001b[0;32mif\u001b[0m \u001b[0mim\u001b[0m\u001b[0;34m.\u001b[0m\u001b[0mget_clip_path\u001b[0m\u001b[0;34m(\u001b[0m\u001b[0;34m)\u001b[0m \u001b[0;32mis\u001b[0m \u001b[0;32mNone\u001b[0m\u001b[0;34m:\u001b[0m\u001b[0;34m\u001b[0m\u001b[0;34m\u001b[0m\u001b[0m\n",
      "\u001b[0;32m~/anaconda3/lib/python3.8/site-packages/matplotlib/image.py\u001b[0m in \u001b[0;36mset_data\u001b[0;34m(self, A)\u001b[0m\n\u001b[1;32m    698\u001b[0m         if (self._A.dtype != np.uint8 and\n\u001b[1;32m    699\u001b[0m                 not np.can_cast(self._A.dtype, float, \"same_kind\")):\n\u001b[0;32m--> 700\u001b[0;31m             raise TypeError(\"Image data of dtype {} cannot be converted to \"\n\u001b[0m\u001b[1;32m    701\u001b[0m                             \"float\".format(self._A.dtype))\n\u001b[1;32m    702\u001b[0m \u001b[0;34m\u001b[0m\u001b[0m\n",
      "\u001b[0;31mTypeError\u001b[0m: Image data of dtype object cannot be converted to float"
     ]
    },
    {
     "data": {
      "image/png": "[encoded data removed]",
      "text/plain": [
       "<Figure size 432x288 with 1 Axes>"
      ]
     },
     "metadata": {
      "needs_background": "light"
     },
     "output_type": "display_data"
    }
   ],
   "source": [
    "image1 = cv.imread(images[0])\n",
    "image2 = cv.imread(images[1])\n",
    "image3 = cv.imread(images[2])\n",
    "image4 = cv.imread(images[3])\n",
    "image5 = cv.imread(images[4])\n",
    "\n",
    "plt.imshow(image1)\n",
    "plt.show()\n",
    "plt.imshow(image2)\n",
    "plt.show()\n",
    "plt.imshow(image3)\n",
    "plt.show()\n",
    "plt.imshow(image4)\n",
    "plt.show()\n",
    "plt.imshow(image5)\n",
    "plt.show()\n",
    "\n",
    "difference = cv.subtract(image1, image1)\n",
    "print('image1 - image1: ', not np.any(difference))\n",
    "difference = cv.subtract(image1, image2)\n",
    "print('image1 - image2: ', not np.any(difference))\n",
    "difference = cv.subtract(image1, image3)\n",
    "print('image1 - image3: ', not np.any(difference))\n",
    "difference = cv.subtract(image1, image4)\n",
    "print('image1 - image4: ', not np.any(difference))\n",
    "difference = cv.subtract(image1, image5)\n",
    "print('image1 - image5: ', not np.any(difference))\n",
    "\n",
    "difference = cv.subtract(image2, image1)\n",
    "print('image2 - image1: ', not np.any(difference))\n",
    "difference = cv.subtract(image2, image2)\n",
    "print('image2 - image2: ', not np.any(difference))\n",
    "difference = cv.subtract(image2, image3)\n",
    "print('image2 - image3: ', not np.any(difference))\n",
    "difference = cv.subtract(image2, image4)\n",
    "print('image2 - image4: ', not np.any(difference))\n",
    "difference = cv.subtract(image2, image5)\n",
    "print('image2 - image5: ', not np.any(difference))\n",
    "\n",
    "difference = cv.subtract(image3, image1)\n",
    "print('image3 - image1: ', not np.any(difference))\n",
    "difference = cv.subtract(image3, image2)\n",
    "print('image3 - image2: ', not np.any(difference))\n",
    "difference = cv.subtract(image3, image3)\n",
    "print('image3 - image3: ', not np.any(difference))\n",
    "difference = cv.subtract(image3, image4)\n",
    "print('image3 - image4: ', not np.any(difference))\n",
    "difference = cv.subtract(image3, image5)\n",
    "print('image2 - image3: ', not np.any(difference))\n",
    "\n",
    "difference = cv.subtract(image4, image1)\n",
    "print('image4 - image1: ', not np.any(difference))\n",
    "difference = cv.subtract(image4, image2)\n",
    "print('image4 - image2: ', not np.any(difference))\n",
    "difference = cv.subtract(image4, image3)\n",
    "print('image4 - image3: ', not np.any(difference))\n",
    "difference = cv.subtract(image4, image4)\n",
    "print('image4 - image4: ', not np.any(difference))\n",
    "difference = cv.subtract(image4, image5)\n",
    "print('image4 - image5: ', not np.any(difference))\n",
    "\n",
    "difference = cv.subtract(image5, image1)\n",
    "print('image5 - image1: ', not np.any(difference))\n",
    "difference = cv.subtract(image5, image2)\n",
    "print('image5 - image2: ', not np.any(difference))\n",
    "difference = cv.subtract(image5, image3)\n",
    "print('image5 - image3: ', not np.any(difference))\n",
    "difference = cv.subtract(image5, image4)\n",
    "print('image5 - image4: ', not np.any(difference))\n",
    "difference = cv.subtract(image5, image5)\n",
    "print('image5 - image5: ', np.any(difference))"
   ]
  },
  {
   "cell_type": "code",
   "execution_count": null,
   "metadata": {},
   "outputs": [],
   "source": []
  }
 ],
 "metadata": {
  "kernelspec": {
   "display_name": "Python 3",
   "language": "python",
   "name": "python3"
  },
  "language_info": {
   "codemirror_mode": {
    "name": "ipython",
    "version": 3
   },
   "file_extension": ".py",
   "mimetype": "text/x-python",
   "name": "python",
   "nbconvert_exporter": "python",
   "pygments_lexer": "ipython3",
   "version": "3.8.5"
  }
 },
 "nbformat": 4,
 "nbformat_minor": 4
}
