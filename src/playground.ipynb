{
 "cells": [
  {
   "cell_type": "markdown",
   "metadata": {},
   "source": [
    "# Playground\n",
    "this is a testing enviorement for our code\n",
    "\n",
    "## Usage\n",
    "run the first module the first time, afterwards you can use everything"
   ]
  },
  {
   "cell_type": "code",
   "execution_count": 2,
   "metadata": {},
   "outputs": [],
   "source": [
    "from board import *\n",
    "from testboards import Testboards as TB\n",
    "from extra import Coordinate\n"
   ]
  },
  {
   "cell_type": "code",
   "execution_count": 2,
   "metadata": {
    "tags": []
   },
   "outputs": [
    {
     "name": "stdout",
     "output_type": "stream",
     "text": [
      "140 µs ± 2 µs per loop (mean ± std. dev. of 7 runs, 10000 loops each)\n"
     ]
    }
   ],
   "source": [
    "board = Board()\n",
    "def checkEveryMove():\n",
    "    moves = []\n",
    "    for i in range(7):\n",
    "        for j in range(7):\n",
    "            if board.board[i][j] != '.':\n",
    "                moves.append(board.getPossibleMoves(i, j))\n",
    "\n",
    "%timeit checkEveryMove()"
   ]
  },
  {
   "cell_type": "code",
   "execution_count": 3,
   "metadata": {},
   "outputs": [
    {
     "name": "stdout",
     "output_type": "stream",
     "text": [
      "CPU times: user 41 µs, sys: 0 ns, total: 41 µs\n",
      "Wall time: 44.6 µs\n"
     ]
    },
    {
     "data": {
      "text/plain": [
       "(7:1, 5:2)"
      ]
     },
     "execution_count": 3,
     "metadata": {},
     "output_type": "execute_result"
    }
   ],
   "source": [
    "board = Board()\n",
    "\n",
    "%time board.notationToCords(\"b1c3\")"
   ]
  },
  {
   "cell_type": "code",
   "execution_count": 4,
   "metadata": {},
   "outputs": [
    {
     "name": "stdout",
     "output_type": "stream",
     "text": [
      "545 ns ± 5.61 ns per loop (mean ± std. dev. of 7 runs, 1000000 loops each)\n"
     ]
    }
   ],
   "source": [
    "board = Board()\n",
    "board.board = TB.Castle\n",
    "\n",
    "%timeit board.castling(True, True)"
   ]
  },
  {
   "cell_type": "code",
   "execution_count": 4,
   "metadata": {},
   "outputs": [
    {
     "name": "stdout",
     "output_type": "stream",
     "text": [
      "dude\n",
      "ello\n",
      "ello?\n",
      "dude\n",
      "ello\n",
      "ello?\n",
      "dude\n",
      "ello\n",
      "ello?\n",
      "dude\n",
      "ello\n",
      "ello?\n",
      "dude\n",
      "ello\n",
      "ello?\n",
      "dude\n",
      "ello\n",
      "ello?\n",
      "dude\n",
      "ello\n",
      "ello?\n",
      "dude\n",
      "ello\n",
      "ello?\n",
      "r n b q . k . r \n",
      "p p p p . p p p \n",
      ". . . B . n . . \n",
      ". . . . p . . . \n",
      ". . B . P . . . \n",
      "b . . . . N . . \n",
      "P P P P . P P P \n",
      "R N B Q K . . R \n",
      "\n",
      "[1:2, 1:4, 0:5, 3:4, 3:2, 4:1, 5:0, 3:1, 2:0, 3:3, 2:4, 1:5, 5:3, 6:4, 7:5, 5:1, 3:5, 3:6, 4:7, 7:6, 4:3, 5:2, 5:4, 5:6, 5:5, 5:7]\n",
      "[1:2, 1:4, 0:5, 3:4, 3:2, 4:1, 5:0, 3:1, 2:0, 3:3, 2:4, 1:5, 5:3, 6:4, 7:5, 5:1, 3:5, 3:6, 4:7, 7:6, 4:3, 5:2, 5:4, 5:6, 5:5, 5:7]\n",
      "r n b q . k . r \n",
      "p p p p . p p p \n",
      ". . . B . n . . \n",
      ". . . . p . . . \n",
      ". . B . P . . . \n",
      "b . . . . N . . \n",
      "P P P P . P P P \n",
      "R N B Q K . . R \n",
      "\n"
     ]
    }
   ],
   "source": [
    "board = Board()\n",
    "board.move(6,4,4,4)\n",
    "board.move(1,4,3,4)\n",
    "board.move(7,5,5,3)\n",
    "board.move(0,6,2,5)\n",
    "board.move(7,6,5,5)\n",
    "board.move(0,5,5,0)\n",
    "board.board[2][3] = \"B\"\n",
    "board.move(5,3,4,2)\n",
    "board.move(0,4,0,5)\n",
    "print(board)\n",
    "print(board.fieldsUnderWhiteThreat)\n",
    "print(board.getAllAttackedFields(True))\n",
    "print(board)"
   ]
  },
  {
   "cell_type": "code",
   "execution_count": 6,
   "metadata": {},
   "outputs": [
    {
     "name": "stdout",
     "output_type": "stream",
     "text": [
      "[1:2, 1:3, 1:4, 1:5, 1:6, 1:7, 1:0, 2:1, 3:1, 4:1, 5:1, 6:1, 7:1, 0:1, 2:4, 2:3, 2:5, 4:4, 4:3, 4:5, 3:3, 3:5]\n",
      "[1:1]\n",
      ". . . . . . . . \n",
      ". k . . . . . . \n",
      ". . . . . . . . \n",
      ". . . . K . . . \n",
      ". . . . . . . . \n",
      ". . . . . . . . \n",
      ". . . . . . . . \n",
      ". . . . . . . . \n",
      "\n"
     ]
    }
   ],
   "source": [
    "b = Board()\n",
    "b.clearBoard()\n",
    "b.board[1][1] = \"R\"\n",
    "b.board[0][0] = \"k\"\n",
    "b.board[3][3] = \"K\"\n",
    "b.move(3,3,3,4)\n",
    "print(b.fieldsUnderWhiteThreat)\n",
    "print(b.fieldsUnderBlackThreat)\n",
    "b.move(0,0,1,1)\n",
    "print(b)"
   ]
  },
  {
   "cell_type": "code",
   "execution_count": 7,
   "metadata": {},
   "outputs": [
    {
     "name": "stdout",
     "output_type": "stream",
     "text": [
      "CPU times: user 5 µs, sys: 4 µs, total: 9 µs\n",
      "Wall time: 13.6 µs\n"
     ]
    },
    {
     "data": {
      "text/plain": [
       "True"
      ]
     },
     "execution_count": 7,
     "metadata": {},
     "output_type": "execute_result"
    }
   ],
   "source": [
    "test = Coordinate(5,5)\n",
    "otherTest = Coordinate(5,5)\n",
    "%time test.__eq__(otherTest)"
   ]
  },
  {
   "cell_type": "code",
   "execution_count": 8,
   "metadata": {},
   "outputs": [
    {
     "name": "stdout",
     "output_type": "stream",
     "text": [
      "CPU times: user 2 µs, sys: 2 µs, total: 4 µs\n",
      "Wall time: 8.34 µs\n"
     ]
    },
    {
     "data": {
      "text/plain": [
       "True"
      ]
     },
     "execution_count": 8,
     "metadata": {},
     "output_type": "execute_result"
    }
   ],
   "source": [
    "test = Coordinate(5,5)\n",
    "otherTest = Coordinate(5,5)\n",
    "%time test.row==otherTest.row and test.column == otherTest.column"
   ]
  },
  {
   "cell_type": "code",
   "execution_count": null,
   "metadata": {},
   "outputs": [],
   "source": []
  }
 ],
 "metadata": {
  "kernelspec": {
   "display_name": "Python 3",
   "language": "python",
   "name": "python3"
  },
  "language_info": {
   "codemirror_mode": {
    "name": "ipython",
    "version": 3
   },
   "file_extension": ".py",
   "mimetype": "text/x-python",
   "name": "python",
   "nbconvert_exporter": "python",
   "pygments_lexer": "ipython3",
   "version": "3.8.5"
  }
 },
 "nbformat": 4,
 "nbformat_minor": 2
}
